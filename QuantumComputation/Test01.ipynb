%matplotlib inline
from IPython.display import Image
from numpy import pi
from qutip import *
qc0 = QubitCircuit(N)
qc0.add_gate("SWAP", [0, 1], None)
qc0.png
